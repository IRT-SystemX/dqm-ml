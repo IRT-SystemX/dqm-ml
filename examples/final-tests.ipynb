{
 "cells": [
  {
   "cell_type": "markdown",
   "metadata": {},
   "source": [
    "# Tests of Completeness, Representtiveness"
   ]
  },
  {
   "cell_type": "code",
   "execution_count": 4,
   "metadata": {},
   "outputs": [],
   "source": [
    "# Common Libraries\n",
    "import pandas as pd\n",
    "import numpy as np\n",
    "import dqm "
   ]
  },
  {
   "cell_type": "markdown",
   "metadata": {},
   "source": [
    "## Tests on VDP dataset"
   ]
  },
  {
   "cell_type": "code",
   "execution_count": 5,
   "metadata": {},
   "outputs": [
    {
     "data": {
      "text/html": [
       "<div>\n",
       "<style scoped>\n",
       "    .dataframe tbody tr th:only-of-type {\n",
       "        vertical-align: middle;\n",
       "    }\n",
       "\n",
       "    .dataframe tbody tr th {\n",
       "        vertical-align: top;\n",
       "    }\n",
       "\n",
       "    .dataframe thead th {\n",
       "        text-align: right;\n",
       "    }\n",
       "</style>\n",
       "<table border=\"1\" class=\"dataframe\">\n",
       "  <thead>\n",
       "    <tr style=\"text-align: right;\">\n",
       "      <th></th>\n",
       "      <th>image</th>\n",
       "      <th>camera</th>\n",
       "      <th>sequence</th>\n",
       "      <th>environment</th>\n",
       "      <th>country</th>\n",
       "      <th>sky_cover</th>\n",
       "      <th>surface_condition</th>\n",
       "      <th>timestamp</th>\n",
       "      <th>lighting_level</th>\n",
       "      <th>climatic_conditions</th>\n",
       "      <th>...</th>\n",
       "      <th>Traffic_light_unknown</th>\n",
       "      <th>Traffic_light_green</th>\n",
       "      <th>Bicycle</th>\n",
       "      <th>Other_mobile</th>\n",
       "      <th>Person_group</th>\n",
       "      <th>Bus</th>\n",
       "      <th>Trailer</th>\n",
       "      <th>Caravan</th>\n",
       "      <th>Train</th>\n",
       "      <th>unknown</th>\n",
       "    </tr>\n",
       "  </thead>\n",
       "  <tbody>\n",
       "    <tr>\n",
       "      <th>0</th>\n",
       "      <td>20170320_144339_cam_0_00011702.jpg</td>\n",
       "      <td>FV</td>\n",
       "      <td>20170320_144339</td>\n",
       "      <td>Urban</td>\n",
       "      <td>FR</td>\n",
       "      <td>Cloudy</td>\n",
       "      <td>dry</td>\n",
       "      <td>0</td>\n",
       "      <td>Daylight/Bright</td>\n",
       "      <td>Dry</td>\n",
       "      <td>...</td>\n",
       "      <td>0</td>\n",
       "      <td>0</td>\n",
       "      <td>0</td>\n",
       "      <td>0</td>\n",
       "      <td>0</td>\n",
       "      <td>0</td>\n",
       "      <td>0</td>\n",
       "      <td>0</td>\n",
       "      <td>0</td>\n",
       "      <td>0</td>\n",
       "    </tr>\n",
       "    <tr>\n",
       "      <th>1</th>\n",
       "      <td>20170320_144339_cam_0_00011708.jpg</td>\n",
       "      <td>FV</td>\n",
       "      <td>20170320_144339</td>\n",
       "      <td>Urban</td>\n",
       "      <td>FR</td>\n",
       "      <td>Cloudy</td>\n",
       "      <td>dry</td>\n",
       "      <td>1</td>\n",
       "      <td>Daylight/Bright</td>\n",
       "      <td>Dry</td>\n",
       "      <td>...</td>\n",
       "      <td>0</td>\n",
       "      <td>0</td>\n",
       "      <td>0</td>\n",
       "      <td>0</td>\n",
       "      <td>0</td>\n",
       "      <td>0</td>\n",
       "      <td>0</td>\n",
       "      <td>0</td>\n",
       "      <td>0</td>\n",
       "      <td>0</td>\n",
       "    </tr>\n",
       "    <tr>\n",
       "      <th>2</th>\n",
       "      <td>20170320_144339_cam_0_00011714.jpg</td>\n",
       "      <td>FV</td>\n",
       "      <td>20170320_144339</td>\n",
       "      <td>Urban</td>\n",
       "      <td>FR</td>\n",
       "      <td>Cloudy</td>\n",
       "      <td>dry</td>\n",
       "      <td>2</td>\n",
       "      <td>Daylight/Bright</td>\n",
       "      <td>Dry</td>\n",
       "      <td>...</td>\n",
       "      <td>0</td>\n",
       "      <td>0</td>\n",
       "      <td>0</td>\n",
       "      <td>0</td>\n",
       "      <td>0</td>\n",
       "      <td>0</td>\n",
       "      <td>0</td>\n",
       "      <td>0</td>\n",
       "      <td>0</td>\n",
       "      <td>0</td>\n",
       "    </tr>\n",
       "    <tr>\n",
       "      <th>3</th>\n",
       "      <td>20170320_144339_cam_0_00011720.jpg</td>\n",
       "      <td>FV</td>\n",
       "      <td>20170320_144339</td>\n",
       "      <td>Urban</td>\n",
       "      <td>FR</td>\n",
       "      <td>Cloudy</td>\n",
       "      <td>dry</td>\n",
       "      <td>3</td>\n",
       "      <td>Daylight/Bright</td>\n",
       "      <td>Dry</td>\n",
       "      <td>...</td>\n",
       "      <td>0</td>\n",
       "      <td>0</td>\n",
       "      <td>0</td>\n",
       "      <td>0</td>\n",
       "      <td>0</td>\n",
       "      <td>0</td>\n",
       "      <td>0</td>\n",
       "      <td>0</td>\n",
       "      <td>0</td>\n",
       "      <td>0</td>\n",
       "    </tr>\n",
       "    <tr>\n",
       "      <th>4</th>\n",
       "      <td>20170320_144339_cam_0_00011726.jpg</td>\n",
       "      <td>FV</td>\n",
       "      <td>20170320_144339</td>\n",
       "      <td>Urban</td>\n",
       "      <td>FR</td>\n",
       "      <td>Cloudy</td>\n",
       "      <td>dry</td>\n",
       "      <td>4</td>\n",
       "      <td>Daylight/Bright</td>\n",
       "      <td>Dry</td>\n",
       "      <td>...</td>\n",
       "      <td>0</td>\n",
       "      <td>0</td>\n",
       "      <td>0</td>\n",
       "      <td>0</td>\n",
       "      <td>0</td>\n",
       "      <td>0</td>\n",
       "      <td>0</td>\n",
       "      <td>0</td>\n",
       "      <td>0</td>\n",
       "      <td>0</td>\n",
       "    </tr>\n",
       "    <tr>\n",
       "      <th>...</th>\n",
       "      <td>...</td>\n",
       "      <td>...</td>\n",
       "      <td>...</td>\n",
       "      <td>...</td>\n",
       "      <td>...</td>\n",
       "      <td>...</td>\n",
       "      <td>...</td>\n",
       "      <td>...</td>\n",
       "      <td>...</td>\n",
       "      <td>...</td>\n",
       "      <td>...</td>\n",
       "      <td>...</td>\n",
       "      <td>...</td>\n",
       "      <td>...</td>\n",
       "      <td>...</td>\n",
       "      <td>...</td>\n",
       "      <td>...</td>\n",
       "      <td>...</td>\n",
       "      <td>...</td>\n",
       "      <td>...</td>\n",
       "      <td>...</td>\n",
       "    </tr>\n",
       "    <tr>\n",
       "      <th>124015</th>\n",
       "      <td>20180725_193156_cam_3_00006233.jpg</td>\n",
       "      <td>MVL</td>\n",
       "      <td>20180725_193156</td>\n",
       "      <td>Urban</td>\n",
       "      <td>US</td>\n",
       "      <td>Clear</td>\n",
       "      <td>dry</td>\n",
       "      <td>164</td>\n",
       "      <td>Daylight/Bright</td>\n",
       "      <td>Dry</td>\n",
       "      <td>...</td>\n",
       "      <td>0</td>\n",
       "      <td>0</td>\n",
       "      <td>0</td>\n",
       "      <td>0</td>\n",
       "      <td>0</td>\n",
       "      <td>4</td>\n",
       "      <td>0</td>\n",
       "      <td>0</td>\n",
       "      <td>0</td>\n",
       "      <td>0</td>\n",
       "    </tr>\n",
       "    <tr>\n",
       "      <th>124016</th>\n",
       "      <td>20180725_193156_cam_3_00006234.jpg</td>\n",
       "      <td>MVL</td>\n",
       "      <td>20180725_193156</td>\n",
       "      <td>Urban</td>\n",
       "      <td>US</td>\n",
       "      <td>Clear</td>\n",
       "      <td>dry</td>\n",
       "      <td>165</td>\n",
       "      <td>Daylight/Bright</td>\n",
       "      <td>Dry</td>\n",
       "      <td>...</td>\n",
       "      <td>0</td>\n",
       "      <td>0</td>\n",
       "      <td>0</td>\n",
       "      <td>0</td>\n",
       "      <td>0</td>\n",
       "      <td>4</td>\n",
       "      <td>0</td>\n",
       "      <td>0</td>\n",
       "      <td>0</td>\n",
       "      <td>0</td>\n",
       "    </tr>\n",
       "    <tr>\n",
       "      <th>124017</th>\n",
       "      <td>20180725_193156_cam_3_00006241.jpg</td>\n",
       "      <td>MVL</td>\n",
       "      <td>20180725_193156</td>\n",
       "      <td>Urban</td>\n",
       "      <td>US</td>\n",
       "      <td>Clear</td>\n",
       "      <td>dry</td>\n",
       "      <td>166</td>\n",
       "      <td>Daylight/Bright</td>\n",
       "      <td>Dry</td>\n",
       "      <td>...</td>\n",
       "      <td>0</td>\n",
       "      <td>0</td>\n",
       "      <td>0</td>\n",
       "      <td>0</td>\n",
       "      <td>0</td>\n",
       "      <td>4</td>\n",
       "      <td>0</td>\n",
       "      <td>0</td>\n",
       "      <td>0</td>\n",
       "      <td>0</td>\n",
       "    </tr>\n",
       "    <tr>\n",
       "      <th>124018</th>\n",
       "      <td>20180725_193156_cam_3_00006246.jpg</td>\n",
       "      <td>MVL</td>\n",
       "      <td>20180725_193156</td>\n",
       "      <td>Urban</td>\n",
       "      <td>US</td>\n",
       "      <td>Clear</td>\n",
       "      <td>dry</td>\n",
       "      <td>167</td>\n",
       "      <td>Daylight/Bright</td>\n",
       "      <td>Dry</td>\n",
       "      <td>...</td>\n",
       "      <td>0</td>\n",
       "      <td>0</td>\n",
       "      <td>0</td>\n",
       "      <td>0</td>\n",
       "      <td>0</td>\n",
       "      <td>4</td>\n",
       "      <td>0</td>\n",
       "      <td>0</td>\n",
       "      <td>0</td>\n",
       "      <td>0</td>\n",
       "    </tr>\n",
       "    <tr>\n",
       "      <th>124019</th>\n",
       "      <td>20180725_193156_cam_3_00006249.jpg</td>\n",
       "      <td>MVL</td>\n",
       "      <td>20180725_193156</td>\n",
       "      <td>Urban</td>\n",
       "      <td>US</td>\n",
       "      <td>Clear</td>\n",
       "      <td>dry</td>\n",
       "      <td>168</td>\n",
       "      <td>Daylight/Bright</td>\n",
       "      <td>Dry</td>\n",
       "      <td>...</td>\n",
       "      <td>0</td>\n",
       "      <td>0</td>\n",
       "      <td>0</td>\n",
       "      <td>0</td>\n",
       "      <td>0</td>\n",
       "      <td>4</td>\n",
       "      <td>0</td>\n",
       "      <td>0</td>\n",
       "      <td>0</td>\n",
       "      <td>0</td>\n",
       "    </tr>\n",
       "  </tbody>\n",
       "</table>\n",
       "<p>124020 rows × 32 columns</p>\n",
       "</div>"
      ],
      "text/plain": [
       "                                     image camera         sequence  \\\n",
       "0       20170320_144339_cam_0_00011702.jpg     FV  20170320_144339   \n",
       "1       20170320_144339_cam_0_00011708.jpg     FV  20170320_144339   \n",
       "2       20170320_144339_cam_0_00011714.jpg     FV  20170320_144339   \n",
       "3       20170320_144339_cam_0_00011720.jpg     FV  20170320_144339   \n",
       "4       20170320_144339_cam_0_00011726.jpg     FV  20170320_144339   \n",
       "...                                    ...    ...              ...   \n",
       "124015  20180725_193156_cam_3_00006233.jpg    MVL  20180725_193156   \n",
       "124016  20180725_193156_cam_3_00006234.jpg    MVL  20180725_193156   \n",
       "124017  20180725_193156_cam_3_00006241.jpg    MVL  20180725_193156   \n",
       "124018  20180725_193156_cam_3_00006246.jpg    MVL  20180725_193156   \n",
       "124019  20180725_193156_cam_3_00006249.jpg    MVL  20180725_193156   \n",
       "\n",
       "       environment country sky_cover surface_condition  timestamp  \\\n",
       "0            Urban      FR    Cloudy               dry          0   \n",
       "1            Urban      FR    Cloudy               dry          1   \n",
       "2            Urban      FR    Cloudy               dry          2   \n",
       "3            Urban      FR    Cloudy               dry          3   \n",
       "4            Urban      FR    Cloudy               dry          4   \n",
       "...            ...     ...       ...               ...        ...   \n",
       "124015       Urban      US     Clear               dry        164   \n",
       "124016       Urban      US     Clear               dry        165   \n",
       "124017       Urban      US     Clear               dry        166   \n",
       "124018       Urban      US     Clear               dry        167   \n",
       "124019       Urban      US     Clear               dry        168   \n",
       "\n",
       "         lighting_level climatic_conditions  ... Traffic_light_unknown  \\\n",
       "0       Daylight/Bright                 Dry  ...                     0   \n",
       "1       Daylight/Bright                 Dry  ...                     0   \n",
       "2       Daylight/Bright                 Dry  ...                     0   \n",
       "3       Daylight/Bright                 Dry  ...                     0   \n",
       "4       Daylight/Bright                 Dry  ...                     0   \n",
       "...                 ...                 ...  ...                   ...   \n",
       "124015  Daylight/Bright                 Dry  ...                     0   \n",
       "124016  Daylight/Bright                 Dry  ...                     0   \n",
       "124017  Daylight/Bright                 Dry  ...                     0   \n",
       "124018  Daylight/Bright                 Dry  ...                     0   \n",
       "124019  Daylight/Bright                 Dry  ...                     0   \n",
       "\n",
       "        Traffic_light_green  Bicycle  Other_mobile  Person_group  Bus  \\\n",
       "0                         0        0             0             0    0   \n",
       "1                         0        0             0             0    0   \n",
       "2                         0        0             0             0    0   \n",
       "3                         0        0             0             0    0   \n",
       "4                         0        0             0             0    0   \n",
       "...                     ...      ...           ...           ...  ...   \n",
       "124015                    0        0             0             0    4   \n",
       "124016                    0        0             0             0    4   \n",
       "124017                    0        0             0             0    4   \n",
       "124018                    0        0             0             0    4   \n",
       "124019                    0        0             0             0    4   \n",
       "\n",
       "        Trailer  Caravan  Train  unknown  \n",
       "0             0        0      0        0  \n",
       "1             0        0      0        0  \n",
       "2             0        0      0        0  \n",
       "3             0        0      0        0  \n",
       "4             0        0      0        0  \n",
       "...         ...      ...    ...      ...  \n",
       "124015        0        0      0        0  \n",
       "124016        0        0      0        0  \n",
       "124017        0        0      0        0  \n",
       "124018        0        0      0        0  \n",
       "124019        0        0      0        0  \n",
       "\n",
       "[124020 rows x 32 columns]"
      ]
     },
     "execution_count": 5,
     "metadata": {},
     "output_type": "execute_result"
    }
   ],
   "source": [
    "# upload data \n",
    "# Dataset path\n",
    "path = \"datasets/features.csv\"\n",
    "data = pd.read_csv(path, sep=\";\")\n",
    "#print(\"Data info:\\n\", data.info())\n",
    "# print(\"The first 5 lines:\\n\", data.head())\n",
    "data"
   ]
  },
  {
   "cell_type": "markdown",
   "metadata": {},
   "source": [
    "# Completeness \n",
    "you can see also the file: *dqm/completeness/main.py*"
   ]
  },
  {
   "cell_type": "code",
   "execution_count": 6,
   "metadata": {},
   "outputs": [],
   "source": [
    "## Specific Libraries \n",
    "from dqm.completeness.metric import DataCompleteness"
   ]
  },
  {
   "cell_type": "code",
   "execution_count": 8,
   "metadata": {},
   "outputs": [
    {
     "data": {
      "text/plain": [
       "1.0"
      ]
     },
     "execution_count": 8,
     "metadata": {},
     "output_type": "execute_result"
    }
   ],
   "source": [
    "completeness_evaluator = DataCompleteness()\n",
    "overall_score = completeness_evaluator.completeness_tabular(data)\n",
    "overall_score"
   ]
  },
  {
   "cell_type": "code",
   "execution_count": 9,
   "metadata": {},
   "outputs": [
    {
     "name": "stdout",
     "output_type": "stream",
     "text": [
      "Overall Data Completeness Score: 1.0\n",
      "Completeness Score for Column: 1\n"
     ]
    }
   ],
   "source": [
    "column_score = completeness_evaluator.data_completion(data['Car'])\n",
    "\n",
    "# Print the results\n",
    "print(f'Overall Data Completeness Score: {overall_score}')\n",
    "print(f'Completeness Score for Column: {column_score}')"
   ]
  },
  {
   "cell_type": "markdown",
   "metadata": {},
   "source": [
    "# Representativeness"
   ]
  },
  {
   "cell_type": "code",
   "execution_count": 12,
   "metadata": {},
   "outputs": [
    {
     "name": "stdout",
     "output_type": "stream",
     "text": [
      "[04-26 14:44:23] {/home/ubuntu/data_quality/data_quality_metrics/dqm/representativeness/twe_logger.py:102} INFO      - Logger: twe_logger, handlers: [<StreamHandler stdout (DEBUG)>]\n",
      "[04-26 14:44:23] {/home/ubuntu/data_quality/data_quality_metrics/dqm/representativeness/twe_logger.py:102} INFO      - Logger: twe_logger, handlers: [<StreamHandler stdout (DEBUG)>]\n"
     ]
    }
   ],
   "source": [
    "## Specific Libraries\n",
    "from dqm.representativeness.metric import DistributionAnalyzer"
   ]
  },
  {
   "cell_type": "code",
   "execution_count": 13,
   "metadata": {},
   "outputs": [],
   "source": [
    "var = data[\"Car\"] # you can choose another variable from the data. \n",
    "mean = np.mean(var)\n",
    "std = np.std(var)\n",
    "# data = pd.Series(np.random.normal(0, 1, 1000))"
   ]
  },
  {
   "cell_type": "code",
   "execution_count": 14,
   "metadata": {},
   "outputs": [
    {
     "name": "stdout",
     "output_type": "stream",
     "text": [
      "[04-26 14:44:28] {/home/ubuntu/data_quality/data_quality_metrics/dqm/representativeness/twe_logger.py:102} INFO      - Logger: twe_logger, handlers: [<StreamHandler stdout (DEBUG)>]\n"
     ]
    }
   ],
   "source": [
    "# Parameters for analysis\n",
    "bins = 20\n",
    "distribution = 'normal'\n",
    "\n",
    "# Instantiation of DistributionAnalyzer\n",
    "analyzer = DistributionAnalyzer(var, bins, distribution)"
   ]
  },
  {
   "cell_type": "code",
   "execution_count": 15,
   "metadata": {},
   "outputs": [
    {
     "name": "stdout",
     "output_type": "stream",
     "text": [
      "[04-26 14:48:39] {/home/ubuntu/data_quality/data_quality_metrics/dqm/representativeness/metric.py:170} INFO      - pvalue = 0.0 < 0.05: Data is not following the normal distribution\n",
      "Chi-Square Test: p-value = 0.0\n",
      "Chi-Square Test: discretized intervalls are \n",
      " =     lower_limit  upper_limit  obs_freq  exp_freq\n",
      "0          -inf    -0.468070       0.0    6096.0\n",
      "1     -0.468070     1.208538    9419.0    6221.0\n",
      "2      1.208538     2.339737    9369.0    6100.0\n",
      "3      2.339737     3.238778   10283.0    6182.0\n",
      "4      3.238778     4.010075   11344.0    6257.0\n",
      "5      4.010075     4.702724       0.0    6216.0\n",
      "6      4.702724     5.344566   11310.0    6119.0\n",
      "7      5.344566     5.953612       0.0    6163.0\n",
      "8      5.953612     6.542870   11410.0    6253.0\n",
      "9      6.542870     7.122787   10550.0    6208.0\n",
      "10     7.122787     7.702703       0.0    6265.0\n",
      "11     7.702703     8.291961    9498.0    6257.0\n",
      "12     8.291961     8.901007       0.0    6233.0\n",
      "13     8.901007     9.542849    7939.0    6205.0\n",
      "14     9.542849    10.235498    7101.0    6074.0\n",
      "15    10.235498    11.006795    5919.0    6261.0\n",
      "16    11.006795    11.905837       0.0    6377.0\n",
      "17    11.905837    13.037036    8326.0    6255.0\n",
      "18    13.037036    14.713643    2965.0    6087.0\n",
      "19    14.713643          inf    8587.0    6191.0\n"
     ]
    }
   ],
   "source": [
    "# Using the method chisquare_test\n",
    "pvalue, intervals_frequencies = analyzer.chisquare_test()\n",
    "print(f\"Chi-Square Test: p-value = {pvalue}\")\n",
    "print(f\"Chi-Square Test: discretized intervalls are \\n = {intervals_frequencies}\")"
   ]
  },
  {
   "cell_type": "code",
   "execution_count": 16,
   "metadata": {},
   "outputs": [
    {
     "name": "stdout",
     "output_type": "stream",
     "text": [
      "[04-26 14:51:18] {/home/ubuntu/data_quality/data_quality_metrics/dqm/representativeness/metric.py:201} ERROR      - Error: Provide mean and std for normal distribution.\n",
      "Kolmogorov-Smirnov Test: p-value = nan\n"
     ]
    }
   ],
   "source": [
    "# Using the method kolmogorov\n",
    "ks_pvalue = analyzer.kolmogorov()\n",
    "print(f\"Kolmogorov-Smirnov Test: p-value = {ks_pvalue}\")"
   ]
  },
  {
   "cell_type": "code",
   "execution_count": 17,
   "metadata": {},
   "outputs": [
    {
     "name": "stdout",
     "output_type": "stream",
     "text": [
      "Shannon Entropy: 2.99564085105308\n"
     ]
    }
   ],
   "source": [
    "# Using the method shannon_entropy\n",
    "entropy = analyzer.shannon_entropy()\n",
    "print(f\"Shannon Entropy: {entropy}\")"
   ]
  },
  {
   "cell_type": "code",
   "execution_count": 18,
   "metadata": {},
   "outputs": [
    {
     "name": "stdout",
     "output_type": "stream",
     "text": [
      "GRTE: 0.4539808413284466\n"
     ]
    }
   ],
   "source": [
    "# Using the method grte\n",
    "grte_result, intervals_discretized = analyzer.grte()\n",
    "print(f\"GRTE: {grte_result}\")\n",
    "#print(f\"GRTE discretized intervalls are \\n = {intervals_discretized}\") # uncomment to display data discretization"
   ]
  },
  {
   "cell_type": "markdown",
   "metadata": {},
   "source": [
    "# Diversity test"
   ]
  },
  {
   "cell_type": "code",
   "execution_count": 19,
   "metadata": {},
   "outputs": [],
   "source": [
    "# specifion Libraries \n",
    "from dqm.diversity.metric import DiversityIndexCalculator"
   ]
  },
  {
   "cell_type": "code",
   "execution_count": 20,
   "metadata": {},
   "outputs": [],
   "source": [
    "metric_calculator = DiversityIndexCalculator()"
   ]
  },
  {
   "cell_type": "code",
   "execution_count": 21,
   "metadata": {},
   "outputs": [
    {
     "data": {
      "text/plain": [
       "0.9323387738944272"
      ]
     },
     "execution_count": 21,
     "metadata": {},
     "output_type": "execute_result"
    }
   ],
   "source": [
    "# Simpson index\n",
    "metric_calculator.simpson(data['Car'])"
   ]
  },
  {
   "cell_type": "code",
   "execution_count": 22,
   "metadata": {},
   "outputs": [
    {
     "data": {
      "text/plain": [
       "0.9323312562458713"
      ]
     },
     "execution_count": 22,
     "metadata": {},
     "output_type": "execute_result"
    }
   ],
   "source": [
    "# Gini-Simpson Index\n",
    "metric_calculator.gini(data['Car'])"
   ]
  },
  {
   "cell_type": "code",
   "execution_count": 8,
   "metadata": {},
   "outputs": [
    {
     "name": "stdout",
     "output_type": "stream",
     "text": [
      "[04-18 09:26:50] {/home/ubuntu/data_quality/data_quality_metrics/dqm/diversity/twe_logger.py:104} INFO      - Logger: twe_logger, handlers: [<StreamHandler stdout (DEBUG)>]\n"
     ]
    }
   ],
   "source": [
    "from dqm.diversity.diversity import DiversityCalculator\n",
    "from dqm.diversity.metric import DiversityIndexCalculator\n",
    "from dqm.diversity.twe_logger import get_logger\n",
    "import pandas as pd\n",
    "\n",
    "class DataDiversityAnalyzer:\n",
    "    \"\"\"\n",
    "    A class for analyzing the diversity of datasets.\n",
    "\n",
    "    This class integrates with DiversityCalculator and DiversityIndexCalculator\n",
    "    to compute and analyze various diversity indices within a dataset. It provides\n",
    "    methods to calculate and report diversity scores for specific features, aiding\n",
    "    in understanding the distribution and representation in datasets.\n",
    "\n",
    "    Methods:\n",
    "        calculate_diversity_scores(data, feature): Calculates and logs the\n",
    "            diversity scores for a given feature.\n",
    "        none_function(): A placeholder method that currently does nothing.\n",
    "    \"\"\"\n",
    "\n",
    "    def __init__(self):\n",
    "        \"\"\"\n",
    "        Initializes the DataDiversityAnalyzer with necessary components.\n",
    "\n",
    "        Attributes:\n",
    "            metric_calculator (DiversityIndexCalculator): Calculator for diversity indices.\n",
    "            calculator (DiversityCalculator): Calculator for general diversity metrics.\n",
    "            logger (Logger): Logger for logging information during the analysis.\n",
    "        \"\"\"\n",
    "        self.metric_calculator = DiversityIndexCalculator()\n",
    "        self.calculator = DiversityCalculator()\n",
    "        self.logger = get_logger()\n",
    "\n",
    "    def calculate_diversity_scores(self, data: pd.Series, feature: str):\n",
    "        \"\"\"\n",
    "        Calculate diversity scores for a given feature in the dataset.\n",
    "\n",
    "        Args:\n",
    "            data (pandas.DataFrame): The dataset containing the feature.\n",
    "            feature (str): The feature for which diversity scores are calculated.\n",
    "\n",
    "        Returns: None\n",
    "        \"\"\"\n",
    "        #self.logger.info(\"The first 5 lines of the data:\")\n",
    "        #self.logger.info(data.head())\n",
    "        #self.logger.info(\"Data shape:\")\n",
    "        #self.logger.info(data.shape)\n",
    "        #self.logger.info(\"Columns:\")\n",
    "        #self.logger.info(data.columns)\n",
    "        #self.logger.info(\"Columns types:\")\n",
    "        #self.logger.info(data.dtypes)\n",
    "\n",
    "        data = data.dropna()\n",
    "\n",
    "        s = self.metric_calculator.simpson(data[feature])\n",
    "        self.logger.info(\"Simpson index: %s\", s)\n",
    "\n",
    "        g = self.metric_calculator.gini(data[feature])\n",
    "        self.logger.info(\"Gini index: %s\", g)\n",
    "\n",
    "        diversity_score = self.calculator.compute_diversity(data[feature], 'lexical', 'richness')\n",
    "        self.logger.info(\"Diversity score: %s\", diversity_score)\n",
    "\n",
    "    def none_function(self) -> None:\n",
    "        \"\"\"\n",
    "        A placeholder function that currently performs no operation.\n",
    "\n",
    "        Returns: None\n",
    "        \"\"\"\n",
    "        self.logger.info(\"Do not something\")\n",
    "\n",
    "\n",
    "\n"
   ]
  },
  {
   "cell_type": "code",
   "execution_count": 9,
   "metadata": {},
   "outputs": [
    {
     "name": "stdout",
     "output_type": "stream",
     "text": [
      "[04-18 09:28:35] {/home/ubuntu/data_quality/data_quality_metrics/dqm/diversity/twe_logger.py:104} INFO      - Logger: twe_logger, handlers: [<StreamHandler stdout (DEBUG)>]\n",
      "For timestamp feature :\n",
      "[04-18 09:28:35] {/tmp/ipykernel_396843/3773604603.py:56} INFO      - Simpson index: 0.9970976766869423\n",
      "[04-18 09:28:35] {/tmp/ipykernel_396843/3773604603.py:59} INFO      - Gini index: 0.9970896368733906\n",
      "[04-18 09:28:35] {/tmp/ipykernel_396843/3773604603.py:62} INFO      - Diversity score: 6.080977198285112\n",
      "---------------------------------------------------------\n",
      "For Car feature :\n",
      "[04-18 09:28:35] {/tmp/ipykernel_396843/3773604603.py:56} INFO      - Simpson index: 0.9323387738944272\n",
      "[04-18 09:28:35] {/tmp/ipykernel_396843/3773604603.py:59} INFO      - Gini index: 0.9323312562458713\n",
      "[04-18 09:28:35] {/tmp/ipykernel_396843/3773604603.py:62} INFO      - Diversity score: 2.8433151505861547\n",
      "---------------------------------------------------------\n",
      "For Van feature :\n",
      "[04-18 09:28:35] {/tmp/ipykernel_396843/3773604603.py:56} INFO      - Simpson index: 0.651716419208147\n",
      "[04-18 09:28:35] {/tmp/ipykernel_396843/3773604603.py:59} INFO      - Gini index: 0.6517111642781421\n",
      "[04-18 09:28:35] {/tmp/ipykernel_396843/3773604603.py:62} INFO      - Diversity score: 1.2941409814642448\n",
      "---------------------------------------------------------\n",
      "For Truck feature :\n",
      "[04-18 09:28:36] {/tmp/ipykernel_396843/3773604603.py:56} INFO      - Simpson index: 0.5388641326928932\n",
      "[04-18 09:28:36] {/tmp/ipykernel_396843/3773604603.py:59} INFO      - Gini index: 0.5388597877152066\n",
      "[04-18 09:28:36] {/tmp/ipykernel_396843/3773604603.py:62} INFO      - Diversity score: 1.0880443116538665\n",
      "---------------------------------------------------------\n",
      "For Other_occluding feature :\n",
      "[04-18 09:28:36] {/tmp/ipykernel_396843/3773604603.py:56} INFO      - Simpson index: 0.24320731718231825\n",
      "[04-18 09:28:36] {/tmp/ipykernel_396843/3773604603.py:59} INFO      - Gini index: 0.24320535614928207\n",
      "[04-18 09:28:36] {/tmp/ipykernel_396843/3773604603.py:62} INFO      - Diversity score: 0.6376700853388106\n",
      "---------------------------------------------------------\n",
      "For Traffic_sign feature :\n",
      "[04-18 09:28:36] {/tmp/ipykernel_396843/3773604603.py:56} INFO      - Simpson index: 0.7561284566502878\n",
      "[04-18 09:28:36] {/tmp/ipykernel_396843/3773604603.py:59} INFO      - Gini index: 0.7561223598235127\n",
      "[04-18 09:28:36] {/tmp/ipykernel_396843/3773604603.py:62} INFO      - Diversity score: 1.8551825446588075\n",
      "---------------------------------------------------------\n",
      "For Motorcycle feature :\n",
      "[04-18 09:28:36] {/tmp/ipykernel_396843/3773604603.py:56} INFO      - Simpson index: 0.46722121765396485\n",
      "[04-18 09:28:36] {/tmp/ipykernel_396843/3773604603.py:59} INFO      - Gini index: 0.467217450348549\n",
      "[04-18 09:28:36] {/tmp/ipykernel_396843/3773604603.py:62} INFO      - Diversity score: 1.0132821017330949\n",
      "---------------------------------------------------------\n",
      "For Person feature :\n",
      "[04-18 09:28:36] {/tmp/ipykernel_396843/3773604603.py:56} INFO      - Simpson index: 0.8512408124323341\n",
      "[04-18 09:28:36] {/tmp/ipykernel_396843/3773604603.py:59} INFO      - Gini index: 0.8512339486941272\n",
      "[04-18 09:28:36] {/tmp/ipykernel_396843/3773604603.py:62} INFO      - Diversity score: 2.4627454954401102\n",
      "---------------------------------------------------------\n",
      "For Vehicle_group feature :\n",
      "[04-18 09:28:36] {/tmp/ipykernel_396843/3773604603.py:56} INFO      - Simpson index: 0.5528581858563403\n",
      "[04-18 09:28:36] {/tmp/ipykernel_396843/3773604603.py:59} INFO      - Gini index: 0.5528537280415858\n",
      "[04-18 09:28:36] {/tmp/ipykernel_396843/3773604603.py:62} INFO      - Diversity score: 1.10829531689193\n",
      "---------------------------------------------------------\n",
      "For Traffic_light_yellow feature :\n",
      "[04-18 09:28:36] {/tmp/ipykernel_396843/3773604603.py:56} INFO      - Simpson index: 0.022071459679619876\n",
      "[04-18 09:28:36] {/tmp/ipykernel_396843/3773604603.py:59} INFO      - Gini index: 0.022071281712681468\n",
      "[04-18 09:28:36] {/tmp/ipykernel_396843/3773604603.py:62} INFO      - Diversity score: 0.0690185981780445\n",
      "---------------------------------------------------------\n",
      "For Traffic_light_red feature :\n",
      "[04-18 09:28:36] {/tmp/ipykernel_396843/3773604603.py:56} INFO      - Simpson index: 0.18349282147425072\n",
      "[04-18 09:28:36] {/tmp/ipykernel_396843/3773604603.py:59} INFO      - Gini index: 0.18349134193206806\n",
      "[04-18 09:28:36] {/tmp/ipykernel_396843/3773604603.py:62} INFO      - Diversity score: 0.40522304793064917\n",
      "---------------------------------------------------------\n",
      "For Traffic_light_unknown feature :\n",
      "[04-18 09:28:36] {/tmp/ipykernel_396843/3773604603.py:56} INFO      - Simpson index: 0.11476441868241238\n",
      "[04-18 09:28:36] {/tmp/ipykernel_396843/3773604603.py:59} INFO      - Gini index: 0.11476349331216007\n",
      "[04-18 09:28:36] {/tmp/ipykernel_396843/3773604603.py:62} INFO      - Diversity score: 0.27669248376265476\n",
      "---------------------------------------------------------\n",
      "For Traffic_light_green feature :\n",
      "[04-18 09:28:36] {/tmp/ipykernel_396843/3773604603.py:56} INFO      - Simpson index: 0.22431870847325142\n",
      "[04-18 09:28:36] {/tmp/ipykernel_396843/3773604603.py:59} INFO      - Gini index: 0.22431689974313962\n",
      "[04-18 09:28:36] {/tmp/ipykernel_396843/3773604603.py:62} INFO      - Diversity score: 0.4847130632946491\n",
      "---------------------------------------------------------\n",
      "For Bicycle feature :\n",
      "[04-18 09:28:36] {/tmp/ipykernel_396843/3773604603.py:56} INFO      - Simpson index: 0.3887342728497317\n",
      "[04-18 09:28:36] {/tmp/ipykernel_396843/3773604603.py:59} INFO      - Gini index: 0.38873113840147466\n",
      "[04-18 09:28:36] {/tmp/ipykernel_396843/3773604603.py:62} INFO      - Diversity score: 0.8483535810638099\n",
      "---------------------------------------------------------\n",
      "For Other_mobile feature :\n",
      "[04-18 09:28:37] {/tmp/ipykernel_396843/3773604603.py:56} INFO      - Simpson index: 0.15520541295817358\n",
      "[04-18 09:28:37] {/tmp/ipykernel_396843/3773604603.py:59} INFO      - Gini index: 0.15520416150346483\n",
      "[04-18 09:28:37] {/tmp/ipykernel_396843/3773604603.py:62} INFO      - Diversity score: 0.40123511976113146\n",
      "---------------------------------------------------------\n",
      "For Person_group feature :\n",
      "[04-18 09:28:37] {/tmp/ipykernel_396843/3773604603.py:56} INFO      - Simpson index: 0.20676991676053447\n",
      "[04-18 09:28:37] {/tmp/ipykernel_396843/3773604603.py:59} INFO      - Gini index: 0.20676824953011386\n",
      "[04-18 09:28:37] {/tmp/ipykernel_396843/3773604603.py:62} INFO      - Diversity score: 0.48632058103972675\n",
      "---------------------------------------------------------\n",
      "For Bus feature :\n",
      "[04-18 09:28:37] {/tmp/ipykernel_396843/3773604603.py:56} INFO      - Simpson index: 0.41583207960762403\n",
      "[04-18 09:28:37] {/tmp/ipykernel_396843/3773604603.py:59} INFO      - Gini index: 0.41582872666390847\n",
      "[04-18 09:28:37] {/tmp/ipykernel_396843/3773604603.py:62} INFO      - Diversity score: 0.8348802619173306\n",
      "---------------------------------------------------------\n",
      "For Trailer feature :\n",
      "[04-18 09:28:37] {/tmp/ipykernel_396843/3773604603.py:56} INFO      - Simpson index: 0.045067094329235724\n",
      "[04-18 09:28:37] {/tmp/ipykernel_396843/3773604603.py:59} INFO      - Gini index: 0.04506673094353708\n",
      "[04-18 09:28:37] {/tmp/ipykernel_396843/3773604603.py:62} INFO      - Diversity score: 0.11469135556815079\n",
      "---------------------------------------------------------\n",
      "For Caravan feature :\n",
      "[04-18 09:28:37] {/tmp/ipykernel_396843/3773604603.py:56} INFO      - Simpson index: 0.04352518052077481\n",
      "[04-18 09:28:37] {/tmp/ipykernel_396843/3773604603.py:59} INFO      - Gini index: 0.04352482956785986\n",
      "[04-18 09:28:37] {/tmp/ipykernel_396843/3773604603.py:62} INFO      - Diversity score: 0.11729187228393431\n",
      "---------------------------------------------------------\n",
      "For Train feature :\n",
      "[04-18 09:28:37] {/tmp/ipykernel_396843/3773604603.py:56} INFO      - Simpson index: 0.04988835425086291\n",
      "[04-18 09:28:37] {/tmp/ipykernel_396843/3773604603.py:59} INFO      - Gini index: 0.049887951990306156\n",
      "[04-18 09:28:37] {/tmp/ipykernel_396843/3773604603.py:62} INFO      - Diversity score: 0.1325605322798743\n",
      "---------------------------------------------------------\n",
      "For unknown feature :\n",
      "[04-18 09:28:37] {/tmp/ipykernel_396843/3773604603.py:56} INFO      - Simpson index: 1.6126431220730986e-05\n",
      "[04-18 09:28:37] {/tmp/ipykernel_396843/3773604603.py:59} INFO      - Gini index: 1.612630118996705e-05\n",
      "[04-18 09:28:37] {/tmp/ipykernel_396843/3773604603.py:62} INFO      - Diversity score: 0.0001026301732808389\n",
      "---------------------------------------------------------\n"
     ]
    }
   ],
   "source": [
    "# Use of DataDiversityAnalyzer Class\n",
    "path = \"data/vdp_image_train_and_test_v2.csv\"\n",
    "data = pd.read_csv(path, sep=\";\")\n",
    "analyzer = DataDiversityAnalyzer()\n",
    "df = pd.read_csv(\"data/vdp_image_train_and_test_v2.csv\", sep = \";\")\n",
    "#feature_name = \"Traffic_light_green\"\n",
    "#analyzer.calculate_diversity_scores(df, feature_name)\n",
    "\n",
    "for i in df:\n",
    "    if df.dtypes[i] not in ('object', 'bool'):\n",
    "        print(f\"For { i } feature :\")\n",
    "        analyzer.calculate_diversity_scores(df, i)\n",
    "        print(\"---------------------------------------------------------\")"
   ]
  },
  {
   "cell_type": "code",
   "execution_count": 10,
   "metadata": {},
   "outputs": [
    {
     "name": "stdout",
     "output_type": "stream",
     "text": [
      "5\n"
     ]
    },
    {
     "data": {
      "text/plain": [
       "0.1111111111111111"
      ]
     },
     "execution_count": 10,
     "metadata": {},
     "output_type": "execute_result"
    }
   ],
   "source": [
    "# relative diversity : \n",
    "a = df.camera.value_counts()\n",
    "b = a.index\n",
    "c = (6 in b)\n",
    "c\n",
    "index_in = 0\n",
    "requirement_camera = [\"RV\", \"MVR\", \"FV\", \"adf\", \"dfg\", 5]\n",
    "\n",
    "def relative_diversity (variable, requirements):\n",
    "    index_in = 0\n",
    "    for i in requirements:\n",
    "        if i in variable.value_counts().index:\n",
    "            print(i)\n",
    "            index_in +=1\n",
    "\n",
    "    Relative_diversity_score = index_in /(b.value_counts().count()+len(requirement_camera)-index_in)\n",
    "    return Relative_diversity_score\n",
    "#Relative_diversity\n",
    "\n",
    "relative_diversity (df.Car, requirement_camera)"
   ]
  },
  {
   "cell_type": "code",
   "execution_count": 60,
   "metadata": {},
   "outputs": [
    {
     "data": {
      "text/plain": [
       "Index([ 6,  4,  5,  7,  3,  8,  2,  9, 10,  1, 11, 12, 13, 14,  0, 15, 16, 17,\n",
       "       18, 19, 20, 21, 22, 23, 24, 25, 26, 27, 28, 29, 30, 32, 31, 34, 33, 35,\n",
       "       38, 37, 36, 41, 39],\n",
       "      dtype='int64', name='Car')"
      ]
     },
     "execution_count": 60,
     "metadata": {},
     "output_type": "execute_result"
    }
   ],
   "source": [
    " df.Car.value_counts().index"
   ]
  }
 ],
 "metadata": {
  "kernelspec": {
   "display_name": "Python 3 (ipykernel)",
   "language": "python",
   "name": "python3"
  },
  "language_info": {
   "codemirror_mode": {
    "name": "ipython",
    "version": 3
   },
   "file_extension": ".py",
   "mimetype": "text/x-python",
   "name": "python",
   "nbconvert_exporter": "python",
   "pygments_lexer": "ipython3",
   "version": "3.12.9"
  }
 },
 "nbformat": 4,
 "nbformat_minor": 4
}
